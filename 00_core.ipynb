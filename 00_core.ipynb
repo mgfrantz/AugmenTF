{
 "cells": [
  {
   "cell_type": "code",
   "execution_count": null,
   "metadata": {},
   "outputs": [],
   "source": [
    "# default_exp core"
   ]
  },
  {
   "cell_type": "markdown",
   "metadata": {},
   "source": [
    "# Core\n",
    "\n",
    "> Basic functions "
   ]
  },
  {
   "cell_type": "code",
   "execution_count": null,
   "metadata": {},
   "outputs": [],
   "source": [
    "#hide\n",
    "from nbdev.showdoc import *"
   ]
  },
  {
   "cell_type": "code",
   "execution_count": null,
   "metadata": {},
   "outputs": [],
   "source": [
    "#export\n",
    "import json\n",
    "import pickle\n",
    "from pathlib import Path"
   ]
  },
  {
   "cell_type": "code",
   "execution_count": null,
   "metadata": {},
   "outputs": [],
   "source": [
    "# export\n",
    "Path.ls = lambda x: list(x.iterdir())"
   ]
  },
  {
   "cell_type": "code",
   "execution_count": null,
   "metadata": {},
   "outputs": [],
   "source": [
    "# export\n",
    "_all_ = [\"Path\"]"
   ]
  },
  {
   "cell_type": "code",
   "execution_count": null,
   "metadata": {},
   "outputs": [],
   "source": [
    "# export\n",
    "def read_json(path):\n",
    "    '''\n",
    "    Reads a JSON.\n",
    "\n",
    "    Options:\n",
    "\n",
    "    path: Path or str, json you want to read in.\n",
    "\n",
    "    Returns:\n",
    "\n",
    "    a dict of the contents of the JSON.\n",
    "    '''\n",
    "    with open(path, 'r') as j:\n",
    "        return json.load(j)\n",
    "\n",
    "def write_json(contents, path):\n",
    "    '''\n",
    "    Writes a python dict as a JSON to the path.\n",
    "\n",
    "    Options:\n",
    "\n",
    "    contents: a python dictionary you want to write as a JSON\n",
    "    path: where you want to save the JSON. Must end in \".json\"\n",
    "    '''\n",
    "\n",
    "    assert str(path).endswith('json')\n",
    "    with open(path, 'w') as j:\n",
    "        json.dump(contents, j)"
   ]
  },
  {
   "cell_type": "code",
   "execution_count": null,
   "metadata": {},
   "outputs": [],
   "source": [
    "# export\n",
    "def read_text(path, as_lines=False):\n",
    "    '''\n",
    "    Returns the contents of a textfile as a string.\n",
    "\n",
    "    Options:\n",
    "\n",
    "    path: str or Path, text file you want to open.\n",
    "    as_lines: if True, returns each line in a textfile as an item in a list of strings.\n",
    "\n",
    "    Returns:\n",
    "\n",
    "    str, or list of str.\n",
    "    '''\n",
    "    with open(path, 'r') as f:\n",
    "        if as_lines:\n",
    "            return [line.strip() for line in f.readlines()\n",
    "                    if len(line.strip())]\n",
    "        else:\n",
    "            return f.read()\n",
    "\n",
    "def write_text(text, path):\n",
    "    '''\n",
    "    Writes string contents as a .txt file.\n",
    "\n",
    "    Options:\n",
    "\n",
    "    path: str or Path, where to write the text file.\n",
    "    '''\n",
    "    with open(path, 'w') as f:\n",
    "        f.write(text)"
   ]
  },
  {
   "cell_type": "code",
   "execution_count": null,
   "metadata": {},
   "outputs": [],
   "source": [
    "# export\n",
    "def read_pickle(path):\n",
    "    '''\n",
    "    Reads a .pkl file\n",
    "\n",
    "    Options:\n",
    "\n",
    "    path: str or Path, pickle file you want to open.\n",
    "\n",
    "    Returns:\n",
    "\n",
    "    The unpickled Python object.\n",
    "    '''\n",
    "\n",
    "    with open(path, 'rb') as p:\n",
    "        return pickle.load(p)\n",
    "\n",
    "def write_pickle(obj, path):\n",
    "    '''\n",
    "    Writes a Python object as a Pickle file.\n",
    "\n",
    "    Options:\n",
    "\n",
    "    obj: Python object you want to pickle.\n",
    "    path: str or Path of where you want the pickled object to be written.\n",
    "    '''\n",
    "\n",
    "    with open(path, 'wb') as p:\n",
    "        pickle.dump(obj, p)"
   ]
  },
  {
   "cell_type": "code",
   "execution_count": null,
   "metadata": {},
   "outputs": [],
   "source": [
    "# export\n",
    "def apply_chained_funcs(x, funcs):\n",
    "    '''\n",
    "\n",
    "    Options:\n",
    "\n",
    "    x: Object you'd like to apply the functions to\n",
    "    funcs: list, functions (ordered) you'd like to apply to obj.\n",
    "\n",
    "    Returns:\n",
    "\n",
    "    x processed by all the functions in funcs\n",
    "    '''\n",
    "    tmp = x\n",
    "    for func in funcs:\n",
    "        tmp = func(tmp)\n",
    "    return tmp"
   ]
  },
  {
   "cell_type": "markdown",
   "metadata": {},
   "source": [
    "This function can be useful to apply multiple transformations to a data structure.\n",
    "In the example below, we square a numbe then subtract 1."
   ]
  },
  {
   "cell_type": "code",
   "execution_count": null,
   "metadata": {},
   "outputs": [
    {
     "data": {
      "text/plain": [
       "24"
      ]
     },
     "execution_count": null,
     "metadata": {},
     "output_type": "execute_result"
    }
   ],
   "source": [
    "funcs = [lambda x: x**2, lambda x: x-1]\n",
    "apply_chained_funcs(5, funcs)"
   ]
  }
 ],
 "metadata": {
  "kernelspec": {
   "display_name": "Python 3",
   "language": "python",
   "name": "python3"
  }
 },
 "nbformat": 4,
 "nbformat_minor": 4
}
