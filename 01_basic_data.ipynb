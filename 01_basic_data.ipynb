{
 "cells": [
  {
   "cell_type": "code",
   "execution_count": null,
   "metadata": {},
   "outputs": [],
   "source": [
    "# default_exp basic_data"
   ]
  },
  {
   "cell_type": "code",
   "execution_count": null,
   "metadata": {},
   "outputs": [],
   "source": [
    "#hide\n",
    "from nbdev.showdoc import *"
   ]
  },
  {
   "cell_type": "markdown",
   "metadata": {},
   "source": [
    "# Basic Data\n",
    "\n",
    "> This module is for basic datasets to be used by models."
   ]
  },
  {
   "cell_type": "code",
   "execution_count": null,
   "metadata": {},
   "outputs": [
    {
     "name": "stdout",
     "output_type": "stream",
     "text": [
      "WARNING:tensorflow:Falling back to tensorflow client, its recommended to install the cloud tpu client directly with pip install cloud-tpu-client .\n"
     ]
    }
   ],
   "source": [
    "# export\n",
    "from AugmenTF.core import *\n",
    "import tensorflow as tf\n",
    "from tensorflow import data\n",
    "import pandas as pd"
   ]
  },
  {
   "cell_type": "markdown",
   "metadata": {},
   "source": [
    "Make a dummy CSV dataset"
   ]
  },
  {
   "cell_type": "code",
   "execution_count": null,
   "metadata": {},
   "outputs": [],
   "source": [
    "from sklearn.datasets import fetch_20newsgroups\n",
    "\n",
    "N_CHUNKS = 10\n",
    "\n",
    "text_datapath = Path('data/csv')\n",
    "if not text_datapath.exists():\n",
    "    text_datapath.mkdir(parents=True)\n",
    "CSV_PATH = text_datapath/'20_newsgroups.csv'\n",
    "\n",
    "news = fetch_20newsgroups()\n",
    "\n",
    "texts = [i.encode('ascii', errors='ignore').decode('utf-8') for i in news.data]\n",
    "labels = news.target\n",
    "\n",
    "textdata_df = pd.DataFrame(zip(texts, labels), columns=['text','labels'])\n",
    "textdata_df['label_names'] = textdata_df.labels.map(lambda x: news.target_names[x])\n",
    "\n",
    "textdata_df.to_csv(CSV_PATH, index=None)"
   ]
  },
  {
   "cell_type": "code",
   "execution_count": null,
   "metadata": {},
   "outputs": [],
   "source": [
    "# export\n",
    "def make_dataset_from_df(df):\n",
    "    '''\n",
    "    Returns a tf.data.Dataset.\n",
    "\n",
    "    Options:\n",
    "\n",
    "    df: a pandas.DataFrame\n",
    "\n",
    "    Returns:\n",
    "\n",
    "    A tf.data.Dataset\n",
    "    '''\n",
    "\n",
    "    return data.Dataset.from_tensor_slices(df.to_dict(orient='series'))"
   ]
  },
  {
   "cell_type": "markdown",
   "metadata": {},
   "source": [
    "Here, we'll load a tf.data.Dataset from a DataFrame."
   ]
  },
  {
   "cell_type": "code",
   "execution_count": null,
   "metadata": {},
   "outputs": [
    {
     "data": {
      "text/html": [
       "<div>\n",
       "<style scoped>\n",
       "    .dataframe tbody tr th:only-of-type {\n",
       "        vertical-align: middle;\n",
       "    }\n",
       "\n",
       "    .dataframe tbody tr th {\n",
       "        vertical-align: top;\n",
       "    }\n",
       "\n",
       "    .dataframe thead th {\n",
       "        text-align: right;\n",
       "    }\n",
       "</style>\n",
       "<table border=\"1\" class=\"dataframe\">\n",
       "  <thead>\n",
       "    <tr style=\"text-align: right;\">\n",
       "      <th></th>\n",
       "      <th>text</th>\n",
       "      <th>labels</th>\n",
       "      <th>label_names</th>\n",
       "    </tr>\n",
       "  </thead>\n",
       "  <tbody>\n",
       "    <tr>\n",
       "      <th>0</th>\n",
       "      <td>From: lerxst@wam.umd.edu (where's my thing)\\nS...</td>\n",
       "      <td>7</td>\n",
       "      <td>rec.autos</td>\n",
       "    </tr>\n",
       "    <tr>\n",
       "      <th>1</th>\n",
       "      <td>From: guykuo@carson.u.washington.edu (Guy Kuo)...</td>\n",
       "      <td>4</td>\n",
       "      <td>comp.sys.mac.hardware</td>\n",
       "    </tr>\n",
       "    <tr>\n",
       "      <th>2</th>\n",
       "      <td>From: twillis@ec.ecn.purdue.edu (Thomas E Will...</td>\n",
       "      <td>4</td>\n",
       "      <td>comp.sys.mac.hardware</td>\n",
       "    </tr>\n",
       "    <tr>\n",
       "      <th>3</th>\n",
       "      <td>From: jgreen@amber (Joe Green)\\nSubject: Re: W...</td>\n",
       "      <td>1</td>\n",
       "      <td>comp.graphics</td>\n",
       "    </tr>\n",
       "    <tr>\n",
       "      <th>4</th>\n",
       "      <td>From: jcm@head-cfa.harvard.edu (Jonathan McDow...</td>\n",
       "      <td>14</td>\n",
       "      <td>sci.space</td>\n",
       "    </tr>\n",
       "  </tbody>\n",
       "</table>\n",
       "</div>"
      ],
      "text/plain": [
       "                                                text  labels  \\\n",
       "0  From: lerxst@wam.umd.edu (where's my thing)\\nS...       7   \n",
       "1  From: guykuo@carson.u.washington.edu (Guy Kuo)...       4   \n",
       "2  From: twillis@ec.ecn.purdue.edu (Thomas E Will...       4   \n",
       "3  From: jgreen@amber (Joe Green)\\nSubject: Re: W...       1   \n",
       "4  From: jcm@head-cfa.harvard.edu (Jonathan McDow...      14   \n",
       "\n",
       "             label_names  \n",
       "0              rec.autos  \n",
       "1  comp.sys.mac.hardware  \n",
       "2  comp.sys.mac.hardware  \n",
       "3          comp.graphics  \n",
       "4              sci.space  "
      ]
     },
     "execution_count": null,
     "metadata": {},
     "output_type": "execute_result"
    }
   ],
   "source": [
    "textdata_df.head()"
   ]
  },
  {
   "cell_type": "code",
   "execution_count": null,
   "metadata": {},
   "outputs": [],
   "source": [
    "dataset = make_dataset_from_df(textdata_df)"
   ]
  },
  {
   "cell_type": "code",
   "execution_count": null,
   "metadata": {},
   "outputs": [],
   "source": [
    "for batch in dataset.shuffle(1000).batch(2):\n",
    "    break"
   ]
  },
  {
   "cell_type": "code",
   "execution_count": null,
   "metadata": {},
   "outputs": [
    {
     "data": {
      "text/plain": [
       "dict"
      ]
     },
     "execution_count": null,
     "metadata": {},
     "output_type": "execute_result"
    }
   ],
   "source": [
    "type(batch)"
   ]
  },
  {
   "cell_type": "code",
   "execution_count": null,
   "metadata": {},
   "outputs": [
    {
     "data": {
      "text/plain": [
       "dict_keys(['text', 'labels', 'label_names'])"
      ]
     },
     "execution_count": null,
     "metadata": {},
     "output_type": "execute_result"
    }
   ],
   "source": [
    "batch.keys()"
   ]
  },
  {
   "cell_type": "code",
   "execution_count": null,
   "metadata": {},
   "outputs": [
    {
     "data": {
      "text/plain": [
       "b\"From: cramer@optilink.COM (Clayton Cramer)\\nSubject: Re: New Study Out On Gay Percentage\\nOrganization: Optilink Corporation, Petaluma, CA\\nLines: 31\\n\\nIn article <1993Apr16.164638.27218@galileo.cc.rochester.edu>, as010b@uhura.cc.rochester.edu (Tree of Schnopia) writes:\\n> In <15378@optilink.COM> cramer@optilink.COM (Clayton Cramer) writes:\\n# #The article also contains numbers on the number of sexual partners.\\n# #The median number of sexual partners for all men 20-39 was 7.3.\\n# #Compared to the table I have already posted from Masters, Johnson,\\n# #and Kolodny showing male homosexual partners, it is apparent that\\n# #homosexual men are dramatically more promiscuous than the general\\n# #male population.  It's a shame that we don't have a breakdown for\\n# #straight men vs. gay/bi men -- that would show even more dramatically\\n# #how much more promiscuous gay/bi men are.\\n# \\n# Possibly because gay/bi men are less likely to get married?\\n\\nMarriage isn't a requirement for a couple staying together.\\n\\n# What was the purpose of this post?  If it was to show a mindless obsession\\n# with statistics, an incredibly flawed system of reasoning, and a repellent\\n# hatemonger agenda, then the purpose was accomplished with panache.\\n# \\n# (a) Get a clue.  (b) Get a life.  (c) Get out of my face.  I'm not in yours.\\n# \\n# ----bi    Andrew D. Simchik\\t\\t\\t\\t\\tSCHNOPIA!\\n\\nYes you are.  When you and the rest of the homosexual community\\npass laws to impose your moral codes on me, by requiring me to\\nhire, rent to, or otherwise associate with a homosexual against\\nmy will, yes, you are in my face.  Until homosexuals stop trying\\nto impose their morals on me, I will be in your face about this.\\n-- \\nClayton E. Cramer {uunet,pyramid}!optilink!cramer  My opinions, all mine!\\nRelations between people to be by mutual consent, or not at all.\\n\""
      ]
     },
     "execution_count": null,
     "metadata": {},
     "output_type": "execute_result"
    }
   ],
   "source": [
    "batch['text'].numpy()[0]"
   ]
  },
  {
   "cell_type": "code",
   "execution_count": null,
   "metadata": {},
   "outputs": [
    {
     "data": {
      "text/plain": [
       "array([18,  0], dtype=int32)"
      ]
     },
     "execution_count": null,
     "metadata": {},
     "output_type": "execute_result"
    }
   ],
   "source": [
    "batch['labels'].numpy()"
   ]
  },
  {
   "cell_type": "code",
   "execution_count": null,
   "metadata": {},
   "outputs": [],
   "source": [
    "# export\n",
    "def make_dataset_from_csv(csv_path):\n",
    "    '''\n",
    "    Returns a tf.data.Dataset.\n",
    "\n",
    "    Options:\n",
    "\n",
    "    csv_path: str or Path of the CSV you want to load.\n",
    "\n",
    "    Returns:\n",
    "\n",
    "    A tf.data.Dataset\n",
    "    '''\n",
    "    return make_dataset_from_df(pd.read_csv(csv_path))"
   ]
  },
  {
   "cell_type": "markdown",
   "metadata": {},
   "source": [
    "Here, we'll load a tf.data.Dataset from a CSV."
   ]
  },
  {
   "cell_type": "code",
   "execution_count": null,
   "metadata": {},
   "outputs": [],
   "source": [
    "dataset = make_dataset_from_csv(CSV_PATH)"
   ]
  },
  {
   "cell_type": "code",
   "execution_count": null,
   "metadata": {},
   "outputs": [],
   "source": [
    "for batch in dataset.shuffle(1000).batch(2):\n",
    "    break"
   ]
  },
  {
   "cell_type": "code",
   "execution_count": null,
   "metadata": {},
   "outputs": [
    {
     "data": {
      "text/plain": [
       "dict"
      ]
     },
     "execution_count": null,
     "metadata": {},
     "output_type": "execute_result"
    }
   ],
   "source": [
    "type(batch)"
   ]
  },
  {
   "cell_type": "code",
   "execution_count": null,
   "metadata": {},
   "outputs": [
    {
     "data": {
      "text/plain": [
       "dict_keys(['text', 'labels', 'label_names'])"
      ]
     },
     "execution_count": null,
     "metadata": {},
     "output_type": "execute_result"
    }
   ],
   "source": [
    "batch.keys()"
   ]
  },
  {
   "cell_type": "code",
   "execution_count": null,
   "metadata": {},
   "outputs": [
    {
     "data": {
      "text/plain": [
       "array([b\"From: tmc@spartan.ac.BrockU.CA (Tim Ciceran)\\nSubject: Re: Hijaak\\nOrganization: Brock University, St. Catharines Ontario\\nX-Newsreader: TIN [version 1.1 PL9]\\nLines: 15\\n\\nHaston, Donald Wayne (haston@utkvx.utk.edu) wrote:\\n: Currently, I use a shareware program called Graphics Workshop.\\n: What kinds of things will Hijaak do that these shareware programs\\n: will not do?\\n\\nI also use Graphic Workshop and the only differences that I know of are that\\nHijaak has screen capture capabilities and acn convert to/from a couple of\\nmore file formats (don't know specifically which one).  In the April 13\\nissue of PC Magazine they test the twelve best selling image capture/convert\\nutilities, including Hijaak.\\n\\nTMC.\\n(tmc@spartan.ac.brocku.ca)\\n\\n\\n\",\n",
       "       b'From: dpeterik@iastate.edu (Dan Peterik)\\nSubject: Re: Brewer Notes\\nOrganization: Iowa State University, Ames IA\\nLines: 26\\n\\nIn <30MAR93.02086551.0010@MUSIC.LIB.MATC.EDU> PFAN <PFAN@MUSIC.LIB.MATC.EDU> writes:\\n\\n>For those of you who know who Bernie Brewer is, he\\'s back.  The\\n>team mascot, if you will, was given his walking papers a few years\\n>ago, but the fans voted him back last season and he will be perched\\n>in the his familiar home in the outfield and will again slide down\\n>into a barrel of beer when home runs are hit.\\n\\nThat is great to hear I just may have to take a raod trip to Milwakee this year and see that again.  Last time I saw Bernie Brewer was at the age of 10 and I am now 21 thanks for this post.\\n\\n>One final note, Bill Spiers is leading the Brewers with 13 RBI\\'s in\\n>exhibition play.  Looks like he\\'s bouncing back nicely from back\\n>problems.\\n\\nGood to Bill is getting better form the limited coverage we get here in Iowa\\nI know that this will be a great season for the BREW CREW!!\\n\\n\\n>/\\\\/\\\\/\\\\/\\\\/\\\\/\\\\/\\\\/\\\\/\\\\/\\\\/\\\\/\\\\/\\\\/\\\\/\\\\/\\\\/\\\\/\\\\/\\\\/\\\\/\\\\/\\\\/\\\\/\\\\/\\\\/\\\\/\\\\/\\\\/\\\\/\\\\\\n>| Pete Fanning, Computer Operator  | \"Leadership is ACTION |\\n>| Office of Information Technology |  ...NOT Position\"     |\\n>| Milwaukee Area Technical College |     -- D. H. McGannon |\\n>|**********************************************************|\\n>| Email: pfan@music.lib.matc.edu (Internet)                |\\n>|  -or-  Pete.Fanning@f71.n154.z1.fidonet.org              |\\n>\\\\/\\\\/\\\\/\\\\/\\\\/\\\\/\\\\/\\\\/\\\\/\\\\/\\\\/\\\\/\\\\/\\\\/\\\\/\\\\/\\\\/\\\\/\\\\/\\\\/\\\\/\\\\/\\\\/\\\\/\\\\/\\\\/\\\\/\\\\/\\\\/\\\\/\\n'],\n",
       "      dtype=object)"
      ]
     },
     "execution_count": null,
     "metadata": {},
     "output_type": "execute_result"
    }
   ],
   "source": [
    "batch['text'].numpy()"
   ]
  },
  {
   "cell_type": "code",
   "execution_count": null,
   "metadata": {},
   "outputs": [
    {
     "data": {
      "text/plain": [
       "array([1, 9], dtype=int32)"
      ]
     },
     "execution_count": null,
     "metadata": {},
     "output_type": "execute_result"
    }
   ],
   "source": [
    "batch['labels'].numpy()"
   ]
  }
 ],
 "metadata": {
  "kernelspec": {
   "display_name": "Python 3",
   "language": "python",
   "name": "python3"
  }
 },
 "nbformat": 4,
 "nbformat_minor": 4
}
