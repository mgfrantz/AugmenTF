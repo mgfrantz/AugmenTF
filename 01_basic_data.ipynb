{
 "cells": [
  {
   "cell_type": "code",
   "execution_count": null,
   "metadata": {},
   "outputs": [],
   "source": [
    "# default_exp basic_data"
   ]
  },
  {
   "cell_type": "code",
   "execution_count": null,
   "metadata": {},
   "outputs": [],
   "source": [
    "#hide\n",
    "from nbdev.showdoc import *"
   ]
  },
  {
   "cell_type": "markdown",
   "metadata": {},
   "source": [
    "# Basic Data\n",
    "\n",
    "> This module is for basic datasets to be used by models."
   ]
  },
  {
   "cell_type": "code",
   "execution_count": null,
   "metadata": {},
   "outputs": [],
   "source": [
    "# export\n",
    "from AugmenTF.core import *\n",
    "import tensorflow as tf\n",
    "from tensorflow import data\n",
    "import pandas as pd"
   ]
  },
  {
   "cell_type": "markdown",
   "metadata": {},
   "source": [
    "Make a dummy CSV dataset"
   ]
  },
  {
   "cell_type": "code",
   "execution_count": null,
   "metadata": {},
   "outputs": [],
   "source": [
    "from sklearn.datasets import fetch_20newsgroups\n",
    "\n",
    "N_CHUNKS = 10\n",
    "\n",
    "text_datapath = Path('data/csv')\n",
    "if not text_datapath.exists():\n",
    "    text_datapath.mkdir(parents=True)\n",
    "CSV_PATH = text_datapath/'20_newsgroups.csv'\n",
    "\n",
    "news = fetch_20newsgroups()\n",
    "\n",
    "texts = news.data\n",
    "labels = news.target\n",
    "\n",
    "textdata_df = pd.DataFrame(zip(texts, labels), columns=['text','labels'])\n",
    "textdata_df['label_names'] = textdata_df.labels.map(lambda x: news.target_names[x])\n",
    "\n",
    "textdata_df.to_csv(CSV_PATH, index=None)"
   ]
  },
  {
   "cell_type": "code",
   "execution_count": null,
   "metadata": {},
   "outputs": [],
   "source": [
    "# export\n",
    "def make_dataset_from_df(df):\n",
    "    '''\n",
    "    Returns a tf.data.Dataset.\n",
    "    \n",
    "    Options:\n",
    "    \n",
    "    df: a pandas.DataFrame\n",
    "    \n",
    "    Returns:\n",
    "    \n",
    "    A tf.data.Dataset\n",
    "    '''\n",
    "        \n",
    "    return data.Dataset.from_tensor_slices(df.to_dict(orient='series'))"
   ]
  },
  {
   "cell_type": "markdown",
   "metadata": {},
   "source": [
    "Here, we'll load a tf.data.Dataset from a DataFrame."
   ]
  },
  {
   "cell_type": "code",
   "execution_count": null,
   "metadata": {},
   "outputs": [
    {
     "data": {
      "text/html": [
       "<div>\n",
       "<style scoped>\n",
       "    .dataframe tbody tr th:only-of-type {\n",
       "        vertical-align: middle;\n",
       "    }\n",
       "\n",
       "    .dataframe tbody tr th {\n",
       "        vertical-align: top;\n",
       "    }\n",
       "\n",
       "    .dataframe thead th {\n",
       "        text-align: right;\n",
       "    }\n",
       "</style>\n",
       "<table border=\"1\" class=\"dataframe\">\n",
       "  <thead>\n",
       "    <tr style=\"text-align: right;\">\n",
       "      <th></th>\n",
       "      <th>text</th>\n",
       "      <th>labels</th>\n",
       "      <th>label_names</th>\n",
       "    </tr>\n",
       "  </thead>\n",
       "  <tbody>\n",
       "    <tr>\n",
       "      <th>0</th>\n",
       "      <td>From: lerxst@wam.umd.edu (where's my thing)\\nS...</td>\n",
       "      <td>7</td>\n",
       "      <td>rec.autos</td>\n",
       "    </tr>\n",
       "    <tr>\n",
       "      <th>1</th>\n",
       "      <td>From: guykuo@carson.u.washington.edu (Guy Kuo)...</td>\n",
       "      <td>4</td>\n",
       "      <td>comp.sys.mac.hardware</td>\n",
       "    </tr>\n",
       "    <tr>\n",
       "      <th>2</th>\n",
       "      <td>From: twillis@ec.ecn.purdue.edu (Thomas E Will...</td>\n",
       "      <td>4</td>\n",
       "      <td>comp.sys.mac.hardware</td>\n",
       "    </tr>\n",
       "    <tr>\n",
       "      <th>3</th>\n",
       "      <td>From: jgreen@amber (Joe Green)\\nSubject: Re: W...</td>\n",
       "      <td>1</td>\n",
       "      <td>comp.graphics</td>\n",
       "    </tr>\n",
       "    <tr>\n",
       "      <th>4</th>\n",
       "      <td>From: jcm@head-cfa.harvard.edu (Jonathan McDow...</td>\n",
       "      <td>14</td>\n",
       "      <td>sci.space</td>\n",
       "    </tr>\n",
       "  </tbody>\n",
       "</table>\n",
       "</div>"
      ],
      "text/plain": [
       "                                                text  ...            label_names\n",
       "0  From: lerxst@wam.umd.edu (where's my thing)\\nS...  ...              rec.autos\n",
       "1  From: guykuo@carson.u.washington.edu (Guy Kuo)...  ...  comp.sys.mac.hardware\n",
       "2  From: twillis@ec.ecn.purdue.edu (Thomas E Will...  ...  comp.sys.mac.hardware\n",
       "3  From: jgreen@amber (Joe Green)\\nSubject: Re: W...  ...          comp.graphics\n",
       "4  From: jcm@head-cfa.harvard.edu (Jonathan McDow...  ...              sci.space\n",
       "\n",
       "[5 rows x 3 columns]"
      ]
     },
     "execution_count": null,
     "metadata": {},
     "output_type": "execute_result"
    }
   ],
   "source": [
    "textdata_df.head()"
   ]
  },
  {
   "cell_type": "code",
   "execution_count": null,
   "metadata": {},
   "outputs": [],
   "source": [
    "dataset = make_dataset_from_df(textdata_df)"
   ]
  },
  {
   "cell_type": "code",
   "execution_count": null,
   "metadata": {},
   "outputs": [],
   "source": [
    "for batch in dataset.shuffle(1000).batch(2):\n",
    "    break"
   ]
  },
  {
   "cell_type": "code",
   "execution_count": null,
   "metadata": {},
   "outputs": [
    {
     "data": {
      "text/plain": [
       "dict"
      ]
     },
     "execution_count": null,
     "metadata": {},
     "output_type": "execute_result"
    }
   ],
   "source": [
    "type(batch)"
   ]
  },
  {
   "cell_type": "code",
   "execution_count": null,
   "metadata": {},
   "outputs": [
    {
     "data": {
      "text/plain": [
       "dict_keys(['text', 'labels', 'label_names'])"
      ]
     },
     "execution_count": null,
     "metadata": {},
     "output_type": "execute_result"
    }
   ],
   "source": [
    "batch.keys()"
   ]
  },
  {
   "cell_type": "code",
   "execution_count": null,
   "metadata": {},
   "outputs": [
    {
     "data": {
      "text/plain": [
       "array([b'From: brian@meaddata.com (Brian Curran)\\nSubject: Re: I\\'ve found the secret!\\nOrganization: Mead Data Central, Dayton OH\\nLines: 19\\nDistribution: world\\nNNTP-Posting-Host: taurus.meaddata.com\\n\\nIn article <1993Apr15.161730.9903@cs.cornell.edu>, tedward@cs.cornell.edu (Edward [Ted] Fischer) writes:\\n|> \\n|> Why are the Red Sox in first place?  Eight games into the season, they\\n|> already have two wins each from Clemens and Viola.  Clemens starts\\n|> again tonight, on three days rest.\\n\\nHuh?  Clemens pitched last on Saturday, giving him his usual four days\\nrest.  \\n\\n|> What\\'s up?  Are the Sox going with a four-man rotation?  Is this why\\n|> Hesketh was used in relief last night?\\n-- \\n------------------------------------------------------------------------------\\nBrian Curran                 Mead Data Central              brian@meaddata.com \\n------------------------------------------------------------------------------\\n            \"I didn\\'t think I should\\'ve been asked to catch\\n                 when the temperature was below my age.\"\\n               - Carlton Fisk, Chicago White Sox catcher, \\n              on playing during a 40-degree April ball game\\n',\n",
       "       b'From: dchhabra@stpl.ists.ca (Deepak Chhabra)\\nSubject: Re: Goalie masks\\nNntp-Posting-Host: stpl.ists.ca\\nOrganization: Solar Terresterial Physics Laboratory, ISTS\\nLines: 21\\n\\nIn article <120666@netnews.upenn.edu> kkeller@mail.sas.upenn.edu (Keith Keller) writes:\\n>My vote goes to John Vanbiesbrouck.  His mask has a skyline of New York\\n>City, and on the sides there are a bunch of bees (Beezer).  It looks\\n>really sharp.\\n\\nFunny you should mention this; one time on HNIC Don Cherry pointed out\\nVanbiesbrouck\\'s mask.  He _hated_ it.  I think he said something to the effect\\nof:\\n\"You see?  He was great last year; now he goes out and gets that dopey mask \\nand he can\\'t stop a beachball!\"\\n\\nYou may or may not take Cherry seriously at all, but I cracked up when I heard\\nit.\\n\\nI think Ed Belfour has the current best mask in the NHL btw.  I also like\\nMoog\\'s, and I\\'ll give Fuhr\\'s new one an honourable mention, although I haven\\'t\\nseen it closely yet (it looked good from a distance!).  What\\'s also neat is\\nChevaldae\\'s in Detroit; they call him \"Chevy\" so he has two checkered flags\\npainted at the top as in an auto race.\\n\\n\\n'],\n",
       "      dtype=object)"
      ]
     },
     "execution_count": null,
     "metadata": {},
     "output_type": "execute_result"
    }
   ],
   "source": [
    "batch['text'].numpy()"
   ]
  },
  {
   "cell_type": "code",
   "execution_count": null,
   "metadata": {},
   "outputs": [
    {
     "data": {
      "text/plain": [
       "array([ 9, 10], dtype=int32)"
      ]
     },
     "execution_count": null,
     "metadata": {},
     "output_type": "execute_result"
    }
   ],
   "source": [
    "batch['labels'].numpy()"
   ]
  },
  {
   "cell_type": "code",
   "execution_count": null,
   "metadata": {},
   "outputs": [],
   "source": [
    "# export\n",
    "def make_dataset_from_csv(csv_path):\n",
    "    '''\n",
    "    Returns a tf.data.Dataset.\n",
    "    \n",
    "    Options:\n",
    "    \n",
    "    csv_path: str or Path of the CSV you want to load.\n",
    "    \n",
    "    Returns:\n",
    "    \n",
    "    A tf.data.Dataset\n",
    "    '''\n",
    "    return make_dataset_from_df(pd.read_csv(csv_path))"
   ]
  },
  {
   "cell_type": "markdown",
   "metadata": {},
   "source": [
    "Here, we'll load a tf.data.Dataset from a CSV."
   ]
  },
  {
   "cell_type": "code",
   "execution_count": null,
   "metadata": {},
   "outputs": [],
   "source": [
    "dataset = make_dataset_from_csv(CSV_PATH)"
   ]
  },
  {
   "cell_type": "code",
   "execution_count": null,
   "metadata": {},
   "outputs": [],
   "source": [
    "for batch in dataset.shuffle(1000).batch(2):\n",
    "    break"
   ]
  },
  {
   "cell_type": "code",
   "execution_count": null,
   "metadata": {},
   "outputs": [
    {
     "data": {
      "text/plain": [
       "dict"
      ]
     },
     "execution_count": null,
     "metadata": {},
     "output_type": "execute_result"
    }
   ],
   "source": [
    "type(batch)"
   ]
  },
  {
   "cell_type": "code",
   "execution_count": null,
   "metadata": {},
   "outputs": [
    {
     "data": {
      "text/plain": [
       "dict_keys(['text', 'labels', 'label_names'])"
      ]
     },
     "execution_count": null,
     "metadata": {},
     "output_type": "execute_result"
    }
   ],
   "source": [
    "batch.keys()"
   ]
  },
  {
   "cell_type": "code",
   "execution_count": null,
   "metadata": {},
   "outputs": [
    {
     "data": {
      "text/plain": [
       "array([b\"From: wil@shell.portal.com (Ville V Walveranta)\\nSubject: Re: Fall Comdex '93\\nNntp-Posting-Host: jobe\\nOrganization: Portal Communications Company\\nX-Newsreader: TIN [version 1.1 PL8]\\nLines: 20\\n\\nDLS128@psuvm.psu.edu wrote:\\n: Does anyone out there have any info on the up and coming fall comdex '93? I was\\n: asked by one of my peers to get any info that might be available.  Or, could\\n: anyone point me in the right direction?  Any help would be appreciated.\\n\\n\\tIt's in Las Vegas (as always) between November 16th and 20th.\\n \\n\\tFor more information contact: The Interface Group\\n\\t\\t\\t\\t      300 First Avenue\\n\\t\\t\\t\\t      Needham, MA  02194-2722\\n\\n\\tSorry, no phone number available. Consult directory service\\n\\tin Massachusetts for the number (617, 508 or 413).\\n\\n\\t-- Willy\\n--\\n   *    Ville V. Walveranta      Tel./Fax....: (510) 420-0729     ****\\n   **   96 Linda Ave., Apt. #5   From Finland: 990-1-510-420-0729  ***\\n   ***  Oakland, CA  94611-4838  (FAXes automatically recognized)   **\\n   **** USA                      Email.......: wil@shell.portal.com  *\\n\",\n",
       "       b\"From: nicho@vnet.IBM.COM (Greg Stewart-Nicholls)\\nSubject: Re: Biosphere II\\nReply-To: nicho@vnet.ibm.com\\nDisclaimer: This posting represents the poster's views, not those of IBM\\nNews-Software: UReply 3.1\\nX-X-From: nicho@vnet.ibm.com\\n            <1q1kia$gg8@access.digex.net>\\nLines: 18\\n\\nIn <1q1kia$gg8@access.digex.net> Pat writes:\\n>In article <19930408.043740.516@almaden.ibm.com> nicho@vnet.ibm.com writes:\\n>>In <1q09ud$ji0@access.digex.net> Pat writes:\\n>>>Why is everyone being so critical of B2?\\n>> Because it's bogus science, promoted as 'real' science.\\n>It seems to me, that it's sorta a large engineering project more\\n>then a science project.\\n  Bingo.\\n>B2 is not bench science,  but rather a large scale attempt to\\n>re-create a series of micro-ecologies.   what's so eveil about this?\\n Nothing evil at all. There's no actual harm in what they're doing, only\\nhow they represent it.\\n\\n -----------------------------------------------------------------\\n .sig files are like strings ... every yo-yo's got one.\\n\\nGreg Nicholls ... nicho@vnet.ibm.com (business) or\\n                  nicho@olympus.demon.co.uk (private)\\n\"],\n",
       "      dtype=object)"
      ]
     },
     "execution_count": null,
     "metadata": {},
     "output_type": "execute_result"
    }
   ],
   "source": [
    "batch['text'].numpy()"
   ]
  },
  {
   "cell_type": "code",
   "execution_count": null,
   "metadata": {},
   "outputs": [
    {
     "data": {
      "text/plain": [
       "array([ 2, 14], dtype=int32)"
      ]
     },
     "execution_count": null,
     "metadata": {},
     "output_type": "execute_result"
    }
   ],
   "source": [
    "batch['labels'].numpy()"
   ]
  },
  {
   "cell_type": "code",
   "execution_count": null,
   "metadata": {},
   "outputs": [],
   "source": []
  }
 ],
 "metadata": {
  "kernelspec": {
   "display_name": "Python 3",
   "language": "python",
   "name": "python3"
  }
 },
 "nbformat": 4,
 "nbformat_minor": 4
}
