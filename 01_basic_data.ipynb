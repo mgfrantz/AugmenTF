{
 "cells": [
  {
   "cell_type": "code",
   "execution_count": null,
   "metadata": {},
   "outputs": [],
   "source": [
    "# default_exp basic_data"
   ]
  },
  {
   "cell_type": "code",
   "execution_count": null,
   "metadata": {},
   "outputs": [],
   "source": [
    "#hide\n",
    "from nbdev.showdoc import *"
   ]
  },
  {
   "cell_type": "markdown",
   "metadata": {},
   "source": [
    "# Basic Data\n",
    "\n",
    "> This module is for basic datasets to be used by models."
   ]
  },
  {
   "cell_type": "code",
   "execution_count": null,
   "metadata": {},
   "outputs": [
    {
     "name": "stdout",
     "output_type": "stream",
     "text": [
      "WARNING:tensorflow:Falling back to tensorflow client, its recommended to install the cloud tpu client directly with pip install cloud-tpu-client .\n"
     ]
    }
   ],
   "source": [
    "# export\n",
    "from AugmenTF.core import *\n",
    "import tensorflow as tf\n",
    "from tensorflow import data\n",
    "import pandas as pd"
   ]
  },
  {
   "cell_type": "markdown",
   "metadata": {},
   "source": [
    "Make a dummy CSV dataset"
   ]
  },
  {
   "cell_type": "code",
   "execution_count": null,
   "metadata": {},
   "outputs": [],
   "source": [
    "from sklearn.datasets import fetch_20newsgroups\n",
    "\n",
    "N_CHUNKS = 10\n",
    "\n",
    "text_datapath = Path('data/csv')\n",
    "if not text_datapath.exists():\n",
    "    text_datapath.mkdir(parents=True)\n",
    "CSV_PATH = text_datapath/'20_newsgroups.csv'\n",
    "\n",
    "news = fetch_20newsgroups()\n",
    "\n",
    "texts = [i.encode('ascii', errors='ignore').decode('utf-8') for i in news.data]\n",
    "labels = news.target\n",
    "\n",
    "textdata_df = pd.DataFrame(zip(texts, labels), columns=['text','labels'])\n",
    "textdata_df['label_names'] = textdata_df.labels.map(lambda x: news.target_names[x])\n",
    "\n",
    "textdata_df.to_csv(CSV_PATH, index=None)"
   ]
  },
  {
   "cell_type": "code",
   "execution_count": null,
   "metadata": {},
   "outputs": [],
   "source": [
    "# export\n",
    "def make_dataset_from_df(df):\n",
    "    '''\n",
    "    Returns a tf.data.Dataset.\n",
    "\n",
    "    Options:\n",
    "\n",
    "    df: a pandas.DataFrame\n",
    "\n",
    "    Returns:\n",
    "\n",
    "    A tf.data.Dataset\n",
    "    '''\n",
    "\n",
    "    return data.Dataset.from_tensor_slices(df.to_dict(orient='series'))"
   ]
  },
  {
   "cell_type": "markdown",
   "metadata": {},
   "source": [
    "Here, we'll load a tf.data.Dataset from a DataFrame."
   ]
  },
  {
   "cell_type": "code",
   "execution_count": null,
   "metadata": {},
   "outputs": [
    {
     "data": {
      "text/html": [
       "<div>\n",
       "<style scoped>\n",
       "    .dataframe tbody tr th:only-of-type {\n",
       "        vertical-align: middle;\n",
       "    }\n",
       "\n",
       "    .dataframe tbody tr th {\n",
       "        vertical-align: top;\n",
       "    }\n",
       "\n",
       "    .dataframe thead th {\n",
       "        text-align: right;\n",
       "    }\n",
       "</style>\n",
       "<table border=\"1\" class=\"dataframe\">\n",
       "  <thead>\n",
       "    <tr style=\"text-align: right;\">\n",
       "      <th></th>\n",
       "      <th>text</th>\n",
       "      <th>labels</th>\n",
       "      <th>label_names</th>\n",
       "    </tr>\n",
       "  </thead>\n",
       "  <tbody>\n",
       "    <tr>\n",
       "      <th>0</th>\n",
       "      <td>From: lerxst@wam.umd.edu (where's my thing)\\nS...</td>\n",
       "      <td>7</td>\n",
       "      <td>rec.autos</td>\n",
       "    </tr>\n",
       "    <tr>\n",
       "      <th>1</th>\n",
       "      <td>From: guykuo@carson.u.washington.edu (Guy Kuo)...</td>\n",
       "      <td>4</td>\n",
       "      <td>comp.sys.mac.hardware</td>\n",
       "    </tr>\n",
       "    <tr>\n",
       "      <th>2</th>\n",
       "      <td>From: twillis@ec.ecn.purdue.edu (Thomas E Will...</td>\n",
       "      <td>4</td>\n",
       "      <td>comp.sys.mac.hardware</td>\n",
       "    </tr>\n",
       "    <tr>\n",
       "      <th>3</th>\n",
       "      <td>From: jgreen@amber (Joe Green)\\nSubject: Re: W...</td>\n",
       "      <td>1</td>\n",
       "      <td>comp.graphics</td>\n",
       "    </tr>\n",
       "    <tr>\n",
       "      <th>4</th>\n",
       "      <td>From: jcm@head-cfa.harvard.edu (Jonathan McDow...</td>\n",
       "      <td>14</td>\n",
       "      <td>sci.space</td>\n",
       "    </tr>\n",
       "  </tbody>\n",
       "</table>\n",
       "</div>"
      ],
      "text/plain": [
       "                                                text  labels  \\\n",
       "0  From: lerxst@wam.umd.edu (where's my thing)\\nS...       7   \n",
       "1  From: guykuo@carson.u.washington.edu (Guy Kuo)...       4   \n",
       "2  From: twillis@ec.ecn.purdue.edu (Thomas E Will...       4   \n",
       "3  From: jgreen@amber (Joe Green)\\nSubject: Re: W...       1   \n",
       "4  From: jcm@head-cfa.harvard.edu (Jonathan McDow...      14   \n",
       "\n",
       "             label_names  \n",
       "0              rec.autos  \n",
       "1  comp.sys.mac.hardware  \n",
       "2  comp.sys.mac.hardware  \n",
       "3          comp.graphics  \n",
       "4              sci.space  "
      ]
     },
     "execution_count": null,
     "metadata": {},
     "output_type": "execute_result"
    }
   ],
   "source": [
    "textdata_df.head()"
   ]
  },
  {
   "cell_type": "code",
   "execution_count": null,
   "metadata": {},
   "outputs": [],
   "source": [
    "dataset = make_dataset_from_df(textdata_df)"
   ]
  },
  {
   "cell_type": "code",
   "execution_count": null,
   "metadata": {},
   "outputs": [],
   "source": [
    "for batch in dataset.shuffle(1000).batch(2):\n",
    "    break"
   ]
  },
  {
   "cell_type": "code",
   "execution_count": null,
   "metadata": {},
   "outputs": [
    {
     "data": {
      "text/plain": [
       "dict"
      ]
     },
     "execution_count": null,
     "metadata": {},
     "output_type": "execute_result"
    }
   ],
   "source": [
    "type(batch)"
   ]
  },
  {
   "cell_type": "code",
   "execution_count": null,
   "metadata": {},
   "outputs": [
    {
     "data": {
      "text/plain": [
       "dict_keys(['text', 'labels', 'label_names'])"
      ]
     },
     "execution_count": null,
     "metadata": {},
     "output_type": "execute_result"
    }
   ],
   "source": [
    "batch.keys()"
   ]
  },
  {
   "cell_type": "code",
   "execution_count": null,
   "metadata": {},
   "outputs": [
    {
     "data": {
      "text/plain": [
       "b'From: adam@endor.uucp (Adam Shostack)\\nSubject: Re: Fundamentalism - again.\\nOrganization: Aiken Computation Lab, Harvard University\\nLines: 19\\n\\nIn article <khan0095.734814178@nova> khan0095@nova.gmi.edu (Mohammad Razi Khan) writes:\\n>One of my biggest complaints about using the word \"fundamentalist\"\\n>is that (at least in the U.S.A.) people speak of muslime\\n>fundamentalists                                  ^^^^^^^muslim\\n>but nobody defines what a jewish or christan fundamentalist is.\\n>I wonder what an equal definition would be..\\n>any takers..\\n\\n\\tThe American press routinely uses the word fundamentalist to\\nrefer to both Christians and Jews.  Christian fundementalists are\\noften refered to in the context of anti-abortion protests.  The\\nAmerican media also uses fundamentalist to refer to Jews who live in\\nJudea, Samaria or Gaza, and to any Jew who follows the torah.\\n\\nAdam\\nAdam Shostack \\t\\t\\t\\t       adam@das.harvard.edu\\n\\n\"If we had a budget big enough for drugs and sexual favors, we sure\\nwouldn\\'t waste them on members of Congress...\"   -John Perry Barlow\\n'"
      ]
     },
     "execution_count": null,
     "metadata": {},
     "output_type": "execute_result"
    }
   ],
   "source": [
    "batch['text'].numpy()[0]"
   ]
  },
  {
   "cell_type": "code",
   "execution_count": null,
   "metadata": {},
   "outputs": [
    {
     "data": {
      "text/plain": [
       "array([17,  1], dtype=int32)"
      ]
     },
     "execution_count": null,
     "metadata": {},
     "output_type": "execute_result"
    }
   ],
   "source": [
    "batch['labels'].numpy()"
   ]
  },
  {
   "cell_type": "code",
   "execution_count": null,
   "metadata": {},
   "outputs": [],
   "source": [
    "# export\n",
    "def make_dataset_from_csv(csv_path):\n",
    "    '''\n",
    "    Returns a tf.data.Dataset.\n",
    "\n",
    "    Options:\n",
    "\n",
    "    csv_path: str or Path of the CSV you want to load.\n",
    "\n",
    "    Returns:\n",
    "\n",
    "    A tf.data.Dataset\n",
    "    '''\n",
    "    return make_dataset_from_df(pd.read_csv(csv_path))"
   ]
  },
  {
   "cell_type": "markdown",
   "metadata": {},
   "source": [
    "Here, we'll load a tf.data.Dataset from a CSV."
   ]
  },
  {
   "cell_type": "code",
   "execution_count": null,
   "metadata": {},
   "outputs": [],
   "source": [
    "dataset = make_dataset_from_csv(CSV_PATH)"
   ]
  },
  {
   "cell_type": "code",
   "execution_count": null,
   "metadata": {},
   "outputs": [],
   "source": [
    "for batch in dataset.shuffle(1000).batch(2):\n",
    "    break"
   ]
  },
  {
   "cell_type": "code",
   "execution_count": null,
   "metadata": {},
   "outputs": [
    {
     "data": {
      "text/plain": [
       "dict"
      ]
     },
     "execution_count": null,
     "metadata": {},
     "output_type": "execute_result"
    }
   ],
   "source": [
    "type(batch)"
   ]
  },
  {
   "cell_type": "code",
   "execution_count": null,
   "metadata": {},
   "outputs": [
    {
     "data": {
      "text/plain": [
       "dict_keys(['text', 'labels', 'label_names'])"
      ]
     },
     "execution_count": null,
     "metadata": {},
     "output_type": "execute_result"
    }
   ],
   "source": [
    "batch.keys()"
   ]
  },
  {
   "cell_type": "code",
   "execution_count": null,
   "metadata": {},
   "outputs": [
    {
     "data": {
      "text/plain": [
       "array([b'From: geb@cs.pitt.edu (Gordon Banks)\\nSubject: Re: My New Diet --> IT WORKS GREAT !!!!\\nReply-To: geb@cs.pitt.edu (Gordon Banks)\\nOrganization: Univ. of Pittsburgh Computer Science\\nLines: 35\\n\\nIn article <1993Apr22.001642.9186@omen.UUCP> caf@omen.UUCP (Chuck Forsberg WA7KGX) writes:\\n\\n>>>>Can you provide a reference to substantiate that gaining back\\n>>>>the lost weight does not constitute \"weight rebound\" until it\\n>>>>exceeds the starting weight?  Or is this oral tradition that\\n>>>>is shared only among you obesity researchers?\\n>>>\\n>>>Annals of NY Acad. Sci. 1987\\n>>>\\n>>Hmmm. These don\\'t look like references to me. Is passive-aggressive\\n>>behavior associated with weight rebound? :-)\\n>\\n>I purposefully left off the page numbers to encourage the reader to\\n>study the volumes mentioned, and benefit therefrom.\\n>\\n\\nGood story, Chuck, but it won\\'t wash.  I have read the NY Acad Sci\\none (and have it).  This AM I couldn\\'t find any reference to\\n\"weight rebound\".  I\\'m not saying it isn\\'t there, but since you\\ncited it, it is your responsibility to show me where it is in there.\\nThere is no index.  I suspect you overstepped your knowledge base,\\nas usual.\\n\\n\\n\\n\\n\\n\\n\\n\\n-- \\n----------------------------------------------------------------------------\\nGordon Banks  N3JXP      | \"Skepticism is the chastity of the intellect, and\\ngeb@cadre.dsl.pitt.edu   |  it is shameful to surrender it too soon.\" \\n----------------------------------------------------------------------------\\n',\n",
       "       b\"From: jiml@strauss.FtCollinsCO.NCR.COM (Jim L)\\nSubject: Need Sharp 6220, T2000 parts, information\\nDistribution: world\\nOrganization: NCR Microelectronics Products Division (an AT&T Company)\\nLines: 23\\n\\nI'm looking for a Sharp 6220 or TI Travelmate 2000 for parts.  Mine has\\na bad RAM chip on the motherboard and I want to see what I can get for\\nparts before sending it off to Sharp for repairs.  If you have one,\\ndrop me a line.\\n\\nAlso, I'm trying to set one up for a friend who needs to read his old\\n5 1/4 inch diskettes.  Anyone have the pinout of the diskette expansion\\nconnector on the back of the 3.5 inch floppy box? \\n\\nIf you respond, please include a phone number. I can't always get through \\nwith email.\\n \\nAs always, \\n\\nThanks,\\n\\nJim Lewczyk\\n\\n-- \\nMailer address is buggy!  Reply to: jiml@strauss.FtCollinsCO.NCR.com\\n\\nJames Lewczyk                                   1-303-223-5100 x9267\\nNCR-MPD Fort Collins, CO             jim.lewczyk@FtCollinsCO.NCR.COM\\n\"],\n",
       "      dtype=object)"
      ]
     },
     "execution_count": null,
     "metadata": {},
     "output_type": "execute_result"
    }
   ],
   "source": [
    "batch['text'].numpy()"
   ]
  },
  {
   "cell_type": "code",
   "execution_count": null,
   "metadata": {},
   "outputs": [
    {
     "data": {
      "text/plain": [
       "array([13,  6], dtype=int32)"
      ]
     },
     "execution_count": null,
     "metadata": {},
     "output_type": "execute_result"
    }
   ],
   "source": [
    "batch['labels'].numpy()"
   ]
  },
  {
   "cell_type": "code",
   "execution_count": null,
   "metadata": {},
   "outputs": [],
   "source": []
  }
 ],
 "metadata": {
  "kernelspec": {
   "display_name": "Python 3",
   "language": "python",
   "name": "python3"
  }
 },
 "nbformat": 4,
 "nbformat_minor": 4
}
