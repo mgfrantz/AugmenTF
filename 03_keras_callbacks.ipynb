{
 "cells": [
  {
   "cell_type": "code",
   "execution_count": null,
   "metadata": {},
   "outputs": [],
   "source": [
    "# default_exp keras_callbacks"
   ]
  },
  {
   "cell_type": "markdown",
   "metadata": {},
   "source": [
    "# Keras Callbacks\n",
    "\n",
    "> Custom callbacks for tensorflow.keras."
   ]
  },
  {
   "cell_type": "code",
   "execution_count": null,
   "metadata": {},
   "outputs": [
    {
     "name": "stdout",
     "output_type": "stream",
     "text": [
      "WARNING:tensorflow:Falling back to tensorflow client, its recommended to install the cloud tpu client directly with pip install cloud-tpu-client .\n"
     ]
    }
   ],
   "source": [
    "# export\n",
    "from functools import partial\n",
    "import matplotlib.pyplot as plt\n",
    "import numpy as np\n",
    "from operator import gt, lt\n",
    "import os\n",
    "import tensorflow.keras.backend as K\n",
    "from tensorflow.keras.callbacks import (Callback, CSVLogger, EarlyStopping,\n",
    "    ModelCheckpoint, TensorBoard, LambdaCallback)\n",
    "import warnings\n",
    "import math\n",
    "import os"
   ]
  },
  {
   "cell_type": "code",
   "execution_count": null,
   "metadata": {},
   "outputs": [],
   "source": [
    "%matplotlib inline"
   ]
  },
  {
   "cell_type": "code",
   "execution_count": null,
   "metadata": {},
   "outputs": [],
   "source": [
    "# export\n",
    "class CosineLRScheduler(Callback):\n",
    "    \"\"\"```Learning rate scheduler that makes updates each batch. Built-in\n",
    "    Keras version only updates once per epoch.\n",
    "    ```\"\"\"\n",
    "\n",
    "    def __init__(self, max_lr, epochs, iters_per_epoch, warm=0.3,\n",
    "                 restarts=False, cycle_len=5, cycle_decay=0.0, min_lr=None,\n",
    "                 verbose=False):\n",
    "        \"\"\"```\n",
    "        Parameters\n",
    "        ----------\n",
    "        max_lr: float\n",
    "            Maximum learning rate to use during training.\n",
    "        epochs: int\n",
    "            Number of epochs to train for.\n",
    "        iters_per_epoch: int\n",
    "            Number of batches in each epoch.\n",
    "        warm: float\n",
    "            Percent of training run (or cycle length) devoted to the increasing\n",
    "            portion of the schedule. Default 0.3.\n",
    "        restarts: bool\n",
    "            Specifies whether to use restarts, i.e. use a cyclical LR.\n",
    "            True: Version of cosine annealing with restarts. In one\n",
    "                  cycle, LR starts high and gradually decreases.\n",
    "                  At the start of the next cycle, it is\n",
    "                  immediately increased again.\n",
    "            False: Version of cosine annealing where LR increases\n",
    "                   for first 30% of training, then decreases for\n",
    "                   remaining 70%.\n",
    "        cycle_len: int\n",
    "            Number of epochs contained in a single cycle. Only used\n",
    "            when scheduler uses restarts.\n",
    "        cycle_decay: float\n",
    "            Scalar to decay the learning rate at the end of each cycle.\n",
    "            This is only used with restarts, since the regular cosine\n",
    "            annealing already decays the LR over time.\n",
    "            E.g. 1.0 will use no decay.\n",
    "            0.9 means that cycle 2 LRs = cycle 1 LRs * 0.9,\n",
    "            cycle 3 LRs = cycle 1 LRs * .81,\n",
    "            etc.\n",
    "        min_lr: float\n",
    "            Minimum learning rate. If None is specified, it will be set\n",
    "            to max_lr / 25.\n",
    "        ```\"\"\"\n",
    "        super().__init__()\n",
    "        self.max_lr = max_lr\n",
    "        self.min_lr = min_lr or max_lr / 25\n",
    "        self.epochs = epochs\n",
    "        self.iters_per_epoch = iters_per_epoch\n",
    "        self.iters = epochs * iters_per_epoch\n",
    "        self.warm = warm\n",
    "\n",
    "        if restarts and cycle_len < self.iters:\n",
    "            warnings.warn('Training will consist of less than 1 full cycle.')\n",
    "\n",
    "        self.cycle_len = cycle_len\n",
    "        self.cycle_decay = cycle_decay\n",
    "        self.restarts = restarts\n",
    "        self.lrs = self._schedule(restarts)\n",
    "        self.curr_iter = 0\n",
    "        self.verbose = verbose\n",
    "\n",
    "    def on_batch_begin(self, batch, logs=None):\n",
    "        \"\"\"Update learning rate based on current iteration.\"\"\"\n",
    "        if self.verbose:\n",
    "            print(f'\\nUpdate LR from {self.model.optimizer.lr.numpy():.3E}',\n",
    "                  end='')\n",
    "\n",
    "        # Continue using min_lr if training past specified max iters.\n",
    "        try:\n",
    "            lr = self.lrs[self.curr_iter]\n",
    "        except IndexError:\n",
    "            lr = self.lrs[-1]\n",
    "        K.set_value(self.model.optimizer.lr, lr)\n",
    "\n",
    "        self.curr_iter += 1\n",
    "        if self.verbose:\n",
    "            print(f' to {self.model.optimizer.lr.numpy():.3E}')\n",
    "\n",
    "    @staticmethod\n",
    "    def _cosine_anneal(iters, lr1, lr2):\n",
    "        \"\"\"Helper function for _cosine_tri_lr().\n",
    "\n",
    "        Parameters\n",
    "        ----------\n",
    "        iters: int\n",
    "            Number of iterations in segment.\n",
    "        lr1: float\n",
    "            Learning rate at start of segment.\n",
    "        lr2: float\n",
    "            Learning rate at end of segment.\n",
    "\n",
    "        Returns\n",
    "        -------\n",
    "        np.array\n",
    "        \"\"\"\n",
    "        i = np.arange(iters)\n",
    "        return lr2 + (lr1 - lr2)*(1 + np.cos(np.pi * i/iters))/2\n",
    "\n",
    "    def _cosine_schedule(self):\n",
    "        \"\"\"Cosine annealing scheduler. Computes learning rates for each\n",
    "        iteration.\n",
    "\n",
    "        Returns\n",
    "        -------\n",
    "        np.array\n",
    "        \"\"\"\n",
    "        seg1 = self._cosine_anneal(int(self.warm * self.iters),\n",
    "                                   self.min_lr,\n",
    "                                   self.max_lr)\n",
    "        seg2 = self._cosine_anneal(int(np.ceil((1 - self.warm) * self.iters)),\n",
    "                                   self.max_lr,\n",
    "                                   self.min_lr)\n",
    "        return np.concatenate((seg1, seg2))\n",
    "\n",
    "    def _cosine_restarts_schedule(self):\n",
    "        \"\"\"Cosine annealing with restarts.\"\"\"\n",
    "        cycles = int(np.ceil(self.iters /\n",
    "                             (self.cycle_len * self.iters_per_epoch)))\n",
    "        cycle_iters = self.cycle_len * self.iters_per_epoch\n",
    "        lrs = [self._cosine_anneal(cycle_iters, self.max_lr, self.min_lr)\n",
    "               / (1 + self.cycle_decay * i) for i in range(cycles)]\n",
    "        return np.concatenate(lrs)\n",
    "\n",
    "    def _schedule(self, restarts):\n",
    "        \"\"\"Wrapper to schedule learning rates depending on chosen method.\n",
    "\n",
    "        Parameters\n",
    "        ----------\n",
    "        restarts: bool\n",
    "            If True, use schedule with restarts. If False, use regular\n",
    "            cosine annealing that spans whole duration of training.\n",
    "\n",
    "        Returns\n",
    "        -------\n",
    "        np.array: LR for each iteration (i.e. output[i] is the LR to use\n",
    "            at iteration i).\n",
    "        \"\"\"\n",
    "        if restarts:\n",
    "            return self._cosine_restarts_schedule()\n",
    "        return self._cosine_schedule()\n",
    "\n",
    "    def plot_lrs(self, path=None):\n",
    "        \"\"\"Display learning rate by iteration.\n",
    "\n",
    "        Note: If the plot is not as smooth as expected, this likely\n",
    "        means that there are very few iterations per epoch\n",
    "        (i.e. the batch size is very large, at least in relative terms).\n",
    "        \"\"\"\n",
    "        plt.plot(self.lrs)\n",
    "        plt.xlabel('Iteration')\n",
    "        plt.ylabel('Learning Rate')\n",
    "        plt.title('Learning Rate Schedule')\n",
    "        if path:\n",
    "            plt.savefig(path)\n",
    "            plt.close()\n",
    "        else:\n",
    "            plt.show()\n",
    "\n",
    "    def reset(self):\n",
    "        \"\"\"Reset the current iteration to zero. Note that if the learning rate\n",
    "        has been decayed, it will now be back at the initial value.\n",
    "        \"\"\"\n",
    "        self.curr_iter = 0\n",
    "\n",
    "    def __repr__(self):\n",
    "        return (f'CosineLRScheduler(max_lr={self.max_lr}, '\n",
    "                f'epochs={self.epochs}, '\n",
    "                f'iters_per_epoch={self.iters_per_epoch}, '\n",
    "                f'restarts={self.restarts}, '\n",
    "                f'cycle_len={self.cycle_len}, '\n",
    "                f'min_lr={self.min_lr}, '\n",
    "                f'verbose={self.verbose})')"
   ]
  },
  {
   "cell_type": "code",
   "execution_count": null,
   "metadata": {},
   "outputs": [],
   "source": [
    "# export\n",
    "class BatchHistory(Callback):\n",
    "    \"\"\"```Callback to store training loss at each mini batch. Built in\n",
    "    history callback only stores epoch losses. Validation set is only\n",
    "    evaluated at the end of each epoch so it's not included here.\n",
    "    ```\"\"\"\n",
    "\n",
    "    def __init__(self, path=None):\n",
    "        super().__init__()\n",
    "        self.path = path\n",
    "        self.losses = []\n",
    "\n",
    "    def on_batch_end(self, batch, logs=None):\n",
    "        self.losses.append(logs.get('loss'))\n",
    "\n",
    "    def on_train_end(self, logs=None):\n",
    "        if self.path:\n",
    "            with open(self.path, 'a') as f:\n",
    "                f.write('\\n'.join(str(loss) for loss in self.losses) + '\\n')\n",
    "\n",
    "    def plot_batch_losses(self, path=None, smooth=50):\n",
    "        smoothed = [np.mean(self.losses[i:i+smooth])\n",
    "                    for i in range(len(self.losses))]\n",
    "\n",
    "        plt.plot(self.losses, lw=.5, c='blue', alpha=.25, label='Batch Losses')\n",
    "        plt.plot(smoothed, lw=.5, c='blue', alpha=1, label='Smoothed Losses')\n",
    "        plt.xlabel('Iteration')\n",
    "        plt.ylabel('Training Loss')\n",
    "        plt.title('Training Loss by Mini Batch.')\n",
    "        plt.legend()\n",
    "        if path:\n",
    "            plt.savefig(path)\n",
    "            plt.close()\n",
    "        else:\n",
    "            plt.show()"
   ]
  },
  {
   "cell_type": "code",
   "execution_count": null,
   "metadata": {},
   "outputs": [],
   "source": [
    "# export\n",
    "class PerformanceThreshold(Callback):\n",
    "    \"\"\"Callback that will stop training if performance falls short of\n",
    "    some user-specified threshold. This can help avoid wasting time on\n",
    "    runs that have clearly gone wrong - e.g. learning rate is too large\n",
    "    and validation BCE loss has ballooned to >2.0 on a balanced dataset.\n",
    "    \"\"\"\n",
    "\n",
    "    def __init__(self, metric='val_loss', threshold=1.0, goal='min'):\n",
    "        \"\"\"```\n",
    "        Parameters\n",
    "        ----------\n",
    "        metric: str\n",
    "            Name of metric to monitor.\n",
    "        threshold: float\n",
    "            Performance threshold. If the quantity being monitored is\n",
    "            something we want to minimize, this is the highest\n",
    "            acceptable value to continue training. If it's a metric to\n",
    "            maximize like accuracy, this is the minimum acceptable\n",
    "            value.\n",
    "        goal: str\n",
    "            Goal of the quantity being monitored (i.e. are we trying to\n",
    "            minimize metric or maximize it?). One of ('max', 'min').\n",
    "        ```\"\"\"\n",
    "        super().__init__()\n",
    "        assert goal in ('max', 'min')\n",
    "\n",
    "        self.metric = metric\n",
    "        self.threshold = threshold\n",
    "        if goal == 'max':\n",
    "            self.op = gt\n",
    "        elif goal == 'min':\n",
    "            self.op = lt\n",
    "\n",
    "    def on_epoch_end(self, batch, logs=None):\n",
    "        curr_val = logs.get(self.metric)\n",
    "        if curr_val is not None and self.op(self.threshold, curr_val):\n",
    "            print(f'{self.metric} of {curr_val:.3e} did not satisfy '\n",
    "                  f'performance threshold of {self.threshold}. '\n",
    "                   'Stopping training.')\n",
    "            self.model.stop_training = True"
   ]
  },
  {
   "cell_type": "code",
   "execution_count": null,
   "metadata": {},
   "outputs": [],
   "source": [
    "# export\n",
    "class LRFinder:\n",
    "    \"\"\"\n",
    "    Plots the change of the loss function of a Keras model when the learning rate is exponentially increasing.\n",
    "    See for details:\n",
    "    https://towardsdatascience.com/estimating-optimal-learning-rate-for-a-deep-neural-network-ce32f2556ce0\n",
    "\n",
    "    The following code is attributed to https://github.com/surmenok/keras_lr_finder\n",
    "    \"\"\"\n",
    "\n",
    "    def __init__(self, model):\n",
    "        self.model = model\n",
    "        self.losses = []\n",
    "        self.lrs = []\n",
    "        self.best_loss = 1e9\n",
    "\n",
    "    def on_batch_end(self, batch, logs):\n",
    "        # Log the learning rate\n",
    "        lr = K.get_value(self.model.optimizer.learning_rate)\n",
    "        self.lrs.append(lr)\n",
    "\n",
    "        # Log the loss\n",
    "        loss = logs['loss']\n",
    "        self.losses.append(loss)\n",
    "\n",
    "        # Check whether the loss got too large or NaN\n",
    "        if batch > 5 and (math.isnan(loss) or loss > self.best_loss * 3):\n",
    "            self.model.stop_training = True\n",
    "            return\n",
    "\n",
    "        if loss < self.best_loss:\n",
    "            self.best_loss = loss\n",
    "\n",
    "        # Increase the learning rate for the next batch\n",
    "        lr *= self.lr_mult\n",
    "        K.set_value(self.model.optimizer.learning_rate, lr)\n",
    "\n",
    "    def find(self, x_train, y_train, start_lr, end_lr, batch_size=64, epochs=1):\n",
    "        # If x_train contains data for multiple inputs, use length of the first input.\n",
    "        # Assumption: the first element in the list is single input; NOT a list of inputs.\n",
    "        N = x_train[0].shape[0] if isinstance(x_train, list) else x_train.shape[0]\n",
    "\n",
    "        # Compute number of batches and LR multiplier\n",
    "        num_batches = epochs * N / batch_size\n",
    "        self.lr_mult = (float(end_lr) / float(start_lr)) ** (float(1) / float(num_batches))\n",
    "        # Save weights into a file\n",
    "        self.model.save_weights('tmp.h5')\n",
    "\n",
    "        # Remember the original learning rate\n",
    "        original_lr = K.get_value(self.model.optimizer.learning_rate)\n",
    "\n",
    "        # Set the initial learning rate\n",
    "        K.set_value(self.model.optimizer.learning_rate, start_lr)\n",
    "\n",
    "        callback = LambdaCallback(on_batch_end=lambda batch, logs: self.on_batch_end(batch, logs))\n",
    "\n",
    "        self.model.fit(x_train, y_train,\n",
    "                       batch_size=batch_size, epochs=epochs,\n",
    "                       callbacks=[callback])\n",
    "\n",
    "        # Restore the weights to the state before model fitting\n",
    "        self.model.load_weights('tmp.h5')\n",
    "        os.remove('tmp.h5')\n",
    "\n",
    "        # Restore the original learning rate\n",
    "        K.set_value(self.model.optimizer.learning_rate, original_lr)\n",
    "\n",
    "    def find_generator(self, generator, start_lr, end_lr, epochs=1, steps_per_epoch=None, **kw_fit):\n",
    "        if steps_per_epoch is None:\n",
    "            try:\n",
    "                steps_per_epoch = len(generator)\n",
    "            except (ValueError, NotImplementedError) as e:\n",
    "                raise e('`steps_per_epoch=None` is only valid for a'\n",
    "                        ' generator based on the '\n",
    "                        '`keras.utils.Sequence`'\n",
    "                        ' class. Please specify `steps_per_epoch` '\n",
    "                        'or use the `keras.utils.Sequence` class.')\n",
    "        self.lr_mult = (float(end_lr) / float(start_lr)) ** (float(1) / float(epochs * steps_per_epoch))\n",
    "\n",
    "        # Save weights into a file\n",
    "        self.model.save_weights('tmp.h5')\n",
    "\n",
    "        # Remember the original learning rate\n",
    "        original_lr = K.get_value(self.model.optimizer.learning_rate)\n",
    "\n",
    "        # Set the initial learning rate\n",
    "        K.set_value(self.model.optimizer.learning_rate, start_lr)\n",
    "\n",
    "        callback = LambdaCallback(on_batch_end=lambda batch,\n",
    "                                                      logs: self.on_batch_end(batch, logs))\n",
    "\n",
    "        self.model.fit_generator(generator=generator,\n",
    "                                 epochs=epochs,\n",
    "                                 steps_per_epoch=steps_per_epoch,\n",
    "                                 callbacks=[callback],\n",
    "                                 **kw_fit)\n",
    "\n",
    "        # Restore the weights to the state before model fitting\n",
    "        self.model.load_weights('tmp.h5')\n",
    "        os.remove('tmp.h5')\n",
    "\n",
    "        # Restore the original learning rate\n",
    "        K.set_value(self.model.optimizer.learning_rate, original_lr)\n",
    "\n",
    "    def plot_loss(self, n_skip_beginning=10, n_skip_end=5, x_scale='log'):\n",
    "        \"\"\"\n",
    "        Plots the loss.\n",
    "        Parameters:\n",
    "            n_skip_beginning - number of batches to skip on the left.\n",
    "            n_skip_end - number of batches to skip on the right.\n",
    "        \"\"\"\n",
    "        plt.ylabel(\"loss\")\n",
    "        plt.xlabel(\"learning rate (log scale)\")\n",
    "        plt.plot(self.lrs[n_skip_beginning:-n_skip_end], self.losses[n_skip_beginning:-n_skip_end])\n",
    "        plt.xscale(x_scale)\n",
    "        plt.show()\n",
    "\n",
    "    def plot_loss_change(self, sma=1, n_skip_beginning=10, n_skip_end=5, y_lim=(-0.01, 0.01)):\n",
    "        \"\"\"\n",
    "        Plots rate of change of the loss function.\n",
    "        Parameters:\n",
    "            sma - number of batches for simple moving average to smooth out the curve.\n",
    "            n_skip_beginning - number of batches to skip on the left.\n",
    "            n_skip_end - number of batches to skip on the right.\n",
    "            y_lim - limits for the y axis.\n",
    "        \"\"\"\n",
    "        derivatives = self.get_derivatives(sma)[n_skip_beginning:-n_skip_end]\n",
    "        lrs = self.lrs[n_skip_beginning:-n_skip_end]\n",
    "        plt.ylabel(\"rate of loss change\")\n",
    "        plt.xlabel(\"learning rate (log scale)\")\n",
    "        plt.plot(lrs, derivatives)\n",
    "        plt.xscale('log')\n",
    "        plt.ylim(y_lim)\n",
    "        plt.show()\n",
    "\n",
    "    def get_derivatives(self, sma):\n",
    "        assert sma >= 1\n",
    "        derivatives = [0] * sma\n",
    "        for i in range(sma, len(self.lrs)):\n",
    "            derivatives.append((self.losses[i] - self.losses[i - sma]) / sma)\n",
    "        return derivatives\n",
    "\n",
    "    def get_best_lr(self, sma, n_skip_beginning=10, n_skip_end=5):\n",
    "        derivatives = self.get_derivatives(sma)\n",
    "        best_der_idx = np.argmax(derivatives[n_skip_beginning:-n_skip_end])[0]\n",
    "        return self.lrs[n_skip_beginning:-n_skip_end][best_der_idx]"
   ]
  },
  {
   "cell_type": "markdown",
   "metadata": {},
   "source": [
    "Below, the callbacks are shown on a dummy MNIST model."
   ]
  },
  {
   "cell_type": "code",
   "execution_count": null,
   "metadata": {},
   "outputs": [],
   "source": [
    "from tensorflow.keras.datasets import mnist\n",
    "from tensorflow.keras.layers import Dense, Conv2D, MaxPool2D, BatchNormalization, ReLU, Input, Flatten, GlobalMaxPool2D\n",
    "from tensorflow.keras.models import Sequential\n",
    "from tensorflow.keras.losses import SparseCategoricalCrossentropy"
   ]
  },
  {
   "cell_type": "code",
   "execution_count": null,
   "metadata": {},
   "outputs": [],
   "source": [
    "(X_train, y_train),(X_test, y_test) = mnist.load_data()\n",
    "X_train, X_test = np.expand_dims(X_train/255., -1), np.expand_dims(X_test/255., -1)"
   ]
  },
  {
   "cell_type": "code",
   "execution_count": null,
   "metadata": {},
   "outputs": [],
   "source": [
    "model = Sequential([\n",
    "    Input(X_train.shape[1:]),\n",
    "    Conv2D(24, (3,3), padding='same'),\n",
    "    ReLU(),\n",
    "    BatchNormalization(),\n",
    "    GlobalMaxPool2D(),\n",
    "    Flatten(),\n",
    "    Dense(10, activation='softmax')\n",
    "])\n",
    "\n",
    "model.compile(loss=SparseCategoricalCrossentropy(), metrics=['accuracy'])"
   ]
  },
  {
   "cell_type": "code",
   "execution_count": null,
   "metadata": {},
   "outputs": [],
   "source": [
    "BS = 64\n",
    "EPOCHS = 1\n",
    "STEPS_PER_EPOCH = np.ceil(X_train.shape[0]/BS)"
   ]
  },
  {
   "cell_type": "code",
   "execution_count": null,
   "metadata": {},
   "outputs": [],
   "source": [
    "lr_finder = LRFinder(model)"
   ]
  },
  {
   "cell_type": "code",
   "execution_count": null,
   "metadata": {},
   "outputs": [
    {
     "name": "stdout",
     "output_type": "stream",
     "text": [
      "Train on 60000 samples\n",
      "60000/60000 [==============================] - 15s 245us/sample - loss: 4.6301 - accuracy: 0.1604\n"
     ]
    }
   ],
   "source": [
    "lr_finder.find(X_train, y_train, start_lr=1e-6, end_lr=1e-1, batch_size=BS)"
   ]
  },
  {
   "cell_type": "code",
   "execution_count": null,
   "metadata": {},
   "outputs": [
    {
     "data": {
      "image/png": "[encoded data removed]",
      "text/plain": [
       "<Figure size 432x288 with 1 Axes>"
      ]
     },
     "metadata": {
      "needs_background": "light"
     },
     "output_type": "display_data"
    }
   ],
   "source": [
    "lr_finder.plot_loss()"
   ]
  },
  {
   "cell_type": "code",
   "execution_count": null,
   "metadata": {},
   "outputs": [
    {
     "data": {
      "image/png": "[encoded data removed]",
      "text/plain": [
       "<Figure size 432x288 with 1 Axes>"
      ]
     },
     "metadata": {
      "needs_background": "light"
     },
     "output_type": "display_data"
    }
   ],
   "source": [
    "scheduler = CosineLRScheduler(7e-4, EPOCHS, STEPS_PER_EPOCH)\n",
    "bh = BatchHistory()\n",
    "scheduler.plot_lrs()"
   ]
  },
  {
   "cell_type": "code",
   "execution_count": null,
   "metadata": {},
   "outputs": [
    {
     "name": "stdout",
     "output_type": "stream",
     "text": [
      "Train on 60000 samples, validate on 10000 samples\n",
      "60000/60000 [==============================] - 13s 220us/sample - loss: 2.7387 - accuracy: 0.2568 - val_loss: 1.8717 - val_accuracy: 0.3534\n"
     ]
    },
    {
     "data": {
      "text/plain": [
       "<tensorflow.python.keras.callbacks.History at 0x13b5e6978>"
      ]
     },
     "execution_count": null,
     "metadata": {},
     "output_type": "execute_result"
    }
   ],
   "source": [
    "model.fit(X_train, y_train, batch_size=BS, epochs=EPOCHS, validation_data=(X_test, y_test), callbacks=[scheduler, bh])"
   ]
  },
  {
   "cell_type": "code",
   "execution_count": null,
   "metadata": {},
   "outputs": [
    {
     "data": {
      "image/png": "[encoded data removed]",
      "text/plain": [
       "<Figure size 432x288 with 1 Axes>"
      ]
     },
     "metadata": {
      "needs_background": "light"
     },
     "output_type": "display_data"
    }
   ],
   "source": [
    "bh.plot_batch_losses()"
   ]
  },
  {
   "cell_type": "code",
   "execution_count": null,
   "metadata": {},
   "outputs": [],
   "source": []
  }
 ],
 "metadata": {
  "kernelspec": {
   "display_name": "Python 3",
   "language": "python",
   "name": "python3"
  }
 },
 "nbformat": 4,
 "nbformat_minor": 4
}
