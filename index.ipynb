{
 "cells": [
  {
   "cell_type": "code",
   "execution_count": null,
   "metadata": {},
   "outputs": [],
   "source": [
    "#hide\n",
    "from AugmenTF.core import *"
   ]
  },
  {
   "cell_type": "markdown",
   "metadata": {},
   "source": [
    "# AugmenTF\n",
    "\n",
    "> A library inspired by [fast.ai](https://www.fast.ai/) to implement utilities and tools in TensorFlow 2."
   ]
  },
  {
   "cell_type": "markdown",
   "metadata": {},
   "source": [
    "Currently, there's great support for images, thus I'm tackilng text first.\n",
    "\n",
    "TODO:\n",
    "* [ ] Dataloaders for text data\n",
    "  * [ ] CSV loader\n",
    "  * [ ] Textfile loader\n",
    "  * [ ] Exporting as TFRecords\n",
    "* [ ] Preprocessing: tokenization and text preprocessing\n",
    "  * [ ] dealing with punctuation, repetition, beginning / end of sentences\n",
    "  * [ ] wordpiece?\n",
    "* [ ] Vocabulary / embeddings augmentation for transfer learning\n",
    "* [ ] One-cycle policy\n",
    "* [ ] [LR-Finder](https://www.avanwyk.com/finding-a-learning-rate-in-tensorflow-2/)\n",
    "* [ ] Discriminative learning rates and layer groups\n",
    "* [ ] Saving history, plotting losses and metrics"
   ]
  },
  {
   "cell_type": "markdown",
   "metadata": {},
   "source": [
    "## Install"
   ]
  },
  {
   "cell_type": "markdown",
   "metadata": {},
   "source": [
    "`pip install augmentf`"
   ]
  },
  {
   "cell_type": "markdown",
   "metadata": {},
   "source": [
    "## Usage"
   ]
  },
  {
   "cell_type": "markdown",
   "metadata": {},
   "source": [
    "Fill me in please! Don't forget code examples:"
   ]
  },
  {
   "cell_type": "code",
   "execution_count": null,
   "metadata": {},
   "outputs": [
    {
     "name": "stdout",
     "output_type": "stream",
     "text": [
      "Make the library first!\n"
     ]
    }
   ],
   "source": [
    "print(\"Make the library first!\")"
   ]
  },
  {
   "cell_type": "code",
   "execution_count": null,
   "metadata": {},
   "outputs": [],
   "source": []
  }
 ],
 "metadata": {
  "kernelspec": {
   "display_name": "Python 3",
   "language": "python",
   "name": "python3"
  }
 },
 "nbformat": 4,
 "nbformat_minor": 4
}
